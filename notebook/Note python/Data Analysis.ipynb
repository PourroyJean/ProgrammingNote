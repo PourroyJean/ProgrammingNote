{
 "cells": [
  {
   "cell_type": "markdown",
   "metadata": {},
   "source": [
    "# PYTHON PROGRAMMING FOR DATA ANALYSIS"
   ]
  },
  {
   "cell_type": "markdown",
   "metadata": {},
   "source": [
    "From basics to more sophisticated command for data visualisation\n",
    "0. Requirement\n",
    "1. Basics python command\n",
    "1. Lists\n",
    "2. Numpy\n",
    "3. Matplotlib\n",
    "3. Dictionnaires\n",
    "1. Pandas lib\n",
    "1. Importing data\n",
    "\n",
    "\n"
   ]
  },
  {
   "cell_type": "markdown",
   "metadata": {},
   "source": [
    "---\n",
    "## Requirement"
   ]
  },
  {
   "cell_type": "code",
   "execution_count": 1,
   "metadata": {
    "collapsed": true
   },
   "outputs": [],
   "source": [
    "import numpy as np\n",
    "import xlrd #With pandas\n",
    "import matplotlib.pyplot as plt\n",
    "import pandas as pd"
   ]
  },
  {
   "cell_type": "markdown",
   "metadata": {},
   "source": [
    "## Basics"
   ]
  },
  {
   "cell_type": "code",
   "execution_count": 1,
   "metadata": {},
   "outputs": [
    {
     "name": "stdout",
     "output_type": "stream",
     "text": [
      "256\n"
     ]
    }
   ],
   "source": [
    "#Exponentiation\n",
    "print(4 ** 4)"
   ]
  },
  {
   "cell_type": "code",
   "execution_count": 1,
   "metadata": {},
   "outputs": [
    {
     "name": "stdout",
     "output_type": "stream",
     "text": [
      "(6, 0.4, 'Hey', '0.4', <type 'str'>)\n"
     ]
    }
   ],
   "source": [
    "#Types and converstion\n",
    "mInt = 6\n",
    "mFloat = .4\n",
    "mString = \"Hey\"\n",
    "mConversion = str(mFloat)\n",
    "print (mInt, mFloat, mString, mConversion, type(mConversion))"
   ]
  },
  {
   "cell_type": "markdown",
   "metadata": {},
   "source": [
    "\n"
   ]
  },
  {
   "cell_type": "markdown",
   "metadata": {},
   "source": [
    "---\n",
    "## Lists \n"
   ]
  },
  {
   "cell_type": "code",
   "execution_count": 9,
   "metadata": {},
   "outputs": [
    {
     "name": "stdout",
     "output_type": "stream",
     "text": [
      "[['my', 'nested', 'list'], 'is', 'nice']\n"
     ]
    }
   ],
   "source": [
    "a = \"is\"\n",
    "b = \"nice\"\n",
    "my_list = [[\"my\", \"nested\", \"list\"], a, b]\n",
    "print (my_list)"
   ]
  },
  {
   "cell_type": "code",
   "execution_count": 14,
   "metadata": {},
   "outputs": [
    {
     "name": "stdout",
     "output_type": "stream",
     "text": [
      "nice  ==  nice\n"
     ]
    }
   ],
   "source": [
    "print (my_list[-1],  \" == \",  my_list [2])"
   ]
  },
  {
   "cell_type": "code",
   "execution_count": 17,
   "metadata": {},
   "outputs": [
    {
     "name": "stdout",
     "output_type": "stream",
     "text": [
      "['1', '2']\n",
      "['0', '1']\n"
     ]
    }
   ],
   "source": [
    "#Slicing and dicing\n",
    "x = [\"0\", \"1\", \"2\", \"3\"]\n",
    "print (x[1:3]) #end border is exclusif\n",
    "print (x[:2])"
   ]
  },
  {
   "cell_type": "code",
   "execution_count": 30,
   "metadata": {},
   "outputs": [
    {
     "name": "stdout",
     "output_type": "stream",
     "text": [
      "g\n",
      "['g', 'h']\n"
     ]
    }
   ],
   "source": [
    "x = [[\"a\", \"b\", \"c\"],\n",
    "     [\"d\", \"e\", \"f\"],\n",
    "     [\"g\", \"h\", \"i\"]]\n",
    "print(x[2][0])\n",
    "print(x[2][:2])#Intersection of both index"
   ]
  },
  {
   "cell_type": "code",
   "execution_count": 31,
   "metadata": {},
   "outputs": [
    {
     "name": "stdout",
     "output_type": "stream",
     "text": [
      "[['a', 'b', 'c'], ['d', 'e', 'f'], ['g', 'h', 'i'], ['j', 'k', 'l']]\n"
     ]
    }
   ],
   "source": [
    "x = x + [[\"j\", \"k\", \"l\"]] #add a sublist with double [[]]\n",
    "print (x)"
   ]
  },
  {
   "cell_type": "code",
   "execution_count": 32,
   "metadata": {},
   "outputs": [
    {
     "name": "stdout",
     "output_type": "stream",
     "text": [
      "[['a', 'b', 'c'], ['d', 'e', 'f'], ['g', 'h', 'i'], ['j', 'k', 'l']]\n"
     ]
    }
   ],
   "source": [
    "# Create areas_copy\n",
    "X_pointer = x #Point to the same list (memory adress)\n",
    "y = list(x)   #Y is an other list\n",
    "del(x[1])\n",
    "print (y)"
   ]
  },
  {
   "cell_type": "code",
   "execution_count": 34,
   "metadata": {},
   "outputs": [
    {
     "name": "stdout",
     "output_type": "stream",
     "text": [
      "[20.0, 18.0, 11.25]\n"
     ]
    }
   ],
   "source": [
    "z = [11.25, 18.0, 20.0]\n",
    "# Sort full in descending order: full_sorted\n",
    "full_sorted = sorted (z, reverse=True)\n",
    "# Print out full_sorted\n",
    "print(full_sorted)"
   ]
  },
  {
   "cell_type": "code",
   "execution_count": 39,
   "metadata": {},
   "outputs": [
    {
     "name": "stdout",
     "output_type": "stream",
     "text": [
      "2\n",
      "1\n"
     ]
    }
   ],
   "source": [
    "#Search index\n",
    "print(z.index(20.0))\n",
    "# Print out how often 14.5 appears in areas\n",
    "print (z.count(18.0))"
   ]
  },
  {
   "cell_type": "markdown",
   "metadata": {},
   "source": [
    "### Loop"
   ]
  },
  {
   "cell_type": "code",
   "execution_count": 16,
   "metadata": {
    "scrolled": true
   },
   "outputs": [
    {
     "name": "stdout",
     "output_type": "stream",
     "text": [
      "the hallway is 11.25 sqm\n",
      "the kitchen is 18.0 sqm\n",
      "the living room is 20.0 sqm\n",
      "the bedroom is 10.75 sqm\n",
      "the bathroom is 9.5 sqm\n"
     ]
    }
   ],
   "source": [
    "# house list of lists\n",
    "house = [[\"hallway\", 11.25], \n",
    "         [\"kitchen\", 18.0], \n",
    "         [\"living room\", 20.0], \n",
    "         [\"bedroom\", 10.75], \n",
    "         [\"bathroom\", 9.50]]\n",
    "         \n",
    "# Build a for loop from scratch\n",
    "for x,y in house:\n",
    "    print(\"the \" + str(x) + \" is \" + str(y) +  \" sqm\")"
   ]
  },
  {
   "cell_type": "markdown",
   "metadata": {},
   "source": [
    "### Enumerate"
   ]
  },
  {
   "cell_type": "code",
   "execution_count": null,
   "metadata": {
    "collapsed": true
   },
   "outputs": [],
   "source": [
    "#to get the index \n",
    "areas = [11.25, 18.0, 20.0, 10.75, 9.50]\n",
    "\n",
    "# Code the for loop\n",
    "for index, area in enumerate(areas) :\n",
    "    print(\"room \" + str(index) + \": \" + str(area))"
   ]
  },
  {
   "cell_type": "markdown",
   "metadata": {},
   "source": [
    "---\n",
    "##  Numpy\n",
    "the fundamental package for scientific computing with Python\n",
    "- The standard for storing numerical data\n",
    "- Used by other package\n"
   ]
  },
  {
   "cell_type": "code",
   "execution_count": 3,
   "metadata": {
    "collapsed": true
   },
   "outputs": [],
   "source": [
    "# Import the numpy package as np\n",
    "import numpy as np"
   ]
  },
  {
   "cell_type": "code",
   "execution_count": 21,
   "metadata": {},
   "outputs": [
    {
     "name": "stdout",
     "output_type": "stream",
     "text": [
      "[180, 215, 210, 210, 188, 176, 209, 200]\n",
      "[180 215 210 210 188 176 209 200]\n"
     ]
    }
   ],
   "source": [
    "# Create list baseball\n",
    "baseball = [180, 215, 210, 210, 188, 176, 209, 200]\n",
    "# Create a Numpy array from baseball: np_baseball\n",
    "np_baseball = np.array(baseball)\n",
    "print (baseball)\n",
    "print (np_baseball)"
   ]
  },
  {
   "cell_type": "code",
   "execution_count": 6,
   "metadata": {},
   "outputs": [
    {
     "name": "stdout",
     "output_type": "stream",
     "text": [
      "[1800 2150 2100 2100 1880 1760 2090 2000]\n"
     ]
    }
   ],
   "source": [
    "#Perform operation on all datas\n",
    "print (np_baseball * 10)"
   ]
  },
  {
   "cell_type": "code",
   "execution_count": 2,
   "metadata": {},
   "outputs": [
    {
     "ename": "NameError",
     "evalue": "name 'np_baseball' is not defined",
     "output_type": "error",
     "traceback": [
      "\u001b[0;31m---------------------------------------------------------------------------\u001b[0m",
      "\u001b[0;31mNameError\u001b[0m                                 Traceback (most recent call last)",
      "\u001b[0;32m<ipython-input-2-308fbb54262b>\u001b[0m in \u001b[0;36m<module>\u001b[0;34m()\u001b[0m\n\u001b[1;32m      1\u001b[0m \u001b[0;31m#Perform condition\u001b[0m\u001b[0;34m\u001b[0m\u001b[0;34m\u001b[0m\u001b[0m\n\u001b[0;32m----> 2\u001b[0;31m \u001b[0mprint\u001b[0m \u001b[0;34m(\u001b[0m\u001b[0mnp_baseball\u001b[0m \u001b[0;34m[\u001b[0m\u001b[0mnp_baseball\u001b[0m \u001b[0;34m<\u001b[0m \u001b[0;36m200\u001b[0m\u001b[0;34m]\u001b[0m\u001b[0;34m)\u001b[0m \u001b[0;31m#the conditition is creating an boolean array\u001b[0m\u001b[0;34m\u001b[0m\u001b[0m\n\u001b[0m\u001b[1;32m      3\u001b[0m \u001b[0;31m#So we can get indexes from one np.array to slect value in a second one\u001b[0m\u001b[0;34m\u001b[0m\u001b[0;34m\u001b[0m\u001b[0m\n\u001b[1;32m      4\u001b[0m \u001b[0;34m\u001b[0m\u001b[0m\n\u001b[1;32m      5\u001b[0m \u001b[0;31m#Compare two array one by one element\u001b[0m\u001b[0;34m\u001b[0m\u001b[0;34m\u001b[0m\u001b[0m\n",
      "\u001b[0;31mNameError\u001b[0m: name 'np_baseball' is not defined"
     ]
    }
   ],
   "source": [
    "#Perform condition\n",
    "print (np_baseball [np_baseball < 200]) #the conditition is creating an boolean array\n",
    "#So we can get indexes from one np.array to slect value in a second one\n",
    "\n",
    "#Compare two array one by one element\n",
    "my_house = np.array([18.0, 20.0, 10.75, 9.50])\n",
    "your_house = np.array([14.0, 24.0, 14.25, 9.0])\n",
    "print(my_house < your_house)\n",
    "\n",
    "# my_house greater than 18.5 or smaller than 10\n",
    "print(np.logical_or(my_house > 18.5, \n",
    "            my_house < 10))"
   ]
  },
  {
   "cell_type": "markdown",
   "metadata": {},
   "source": [
    "### Importing data command"
   ]
  },
  {
   "cell_type": "code",
   "execution_count": null,
   "metadata": {
    "collapsed": true
   },
   "outputs": [],
   "source": [
    "#Load from txt file\n",
    "digits = np.loadtxt(file, \n",
    "                    delimiter=',',\n",
    "                    skiprows=1         #If the first row is a header\n",
    "                   )\n",
    "#plt.scatter(data_float[:, 0], data_float[:, 1]) # premiere colonne indice, seconde les valeurs"
   ]
  },
  {
   "cell_type": "markdown",
   "metadata": {},
   "source": [
    "- Importing data array with differents type: create an ndarray of ndarray\n",
    "    - np.genfromtxt\n",
    "    - np.recfromcsv() same as genfromtxt with defaults delimiter=',' and names=True, in addition to dtype=None!"
   ]
  },
  {
   "cell_type": "code",
   "execution_count": 10,
   "metadata": {
    "collapsed": true
   },
   "outputs": [],
   "source": [
    "data = np.genfromtxt('titanic.csv', delimiter=',', names=True, dtype=None) #names means the first row is the label"
   ]
  },
  {
   "cell_type": "markdown",
   "metadata": {},
   "source": [
    "### 2d Numpy Array"
   ]
  },
  {
   "cell_type": "code",
   "execution_count": 50,
   "metadata": {},
   "outputs": [
    {
     "name": "stdout",
     "output_type": "stream",
     "text": [
      "(4, 2)\n"
     ]
    }
   ],
   "source": [
    "# Create baseball, a list of lists\n",
    "baseball = [[180, 78.4],\n",
    "            [215, 102.7],\n",
    "            [210, 98.5],\n",
    "            [188, 75.2]]\n",
    "# Create a 2D Numpy array from baseball: np_baseball\n",
    "np_baseball = np.array (baseball)\n",
    "# Print out the shape of np_baseball\n",
    "print (np_baseball.shape)"
   ]
  },
  {
   "cell_type": "code",
   "execution_count": 54,
   "metadata": {},
   "outputs": [
    {
     "name": "stdout",
     "output_type": "stream",
     "text": [
      "[ 188.    75.2]\n",
      "[  78.4  102.7   98.5   75.2]\n"
     ]
    }
   ],
   "source": [
    "# Print out the 4th row of np_baseball\n",
    "print (np_baseball[3,:])\n",
    "# Select the entire second column of np_baseball: np_weight\n",
    "print (np_baseball[:,1])"
   ]
  },
  {
   "cell_type": "code",
   "execution_count": 55,
   "metadata": {},
   "outputs": [
    {
     "name": "stdout",
     "output_type": "stream",
     "text": [
      "[[   1800.   78400.]\n",
      " [   2150.  102700.]\n",
      " [   2100.   98500.]\n",
      " [   1880.   75200.]]\n"
     ]
    }
   ],
   "source": [
    "#Appllying a filter on an array\n",
    "conversion = np.array([10, 1000])\n",
    "# Print out product of np_baseball and conversion\n",
    "print ( np_baseball * conversion)"
   ]
  },
  {
   "cell_type": "markdown",
   "metadata": {},
   "source": [
    "### Some statistics tricks"
   ]
  },
  {
   "cell_type": "code",
   "execution_count": 57,
   "metadata": {},
   "outputs": [
    {
     "name": "stdout",
     "output_type": "stream",
     "text": [
      "198.25\n",
      "88.45\n"
     ]
    }
   ],
   "source": [
    "# Print out the mean of height\n",
    "print( np.mean(np_baseball[:,0]))\n",
    "# Print out the median of weight\n",
    "print( np.median(np_baseball[:,1]))"
   ]
  },
  {
   "cell_type": "code",
   "execution_count": 58,
   "metadata": {},
   "outputs": [
    {
     "name": "stdout",
     "output_type": "stream",
     "text": [
      "[[ 1.          0.95865738]\n",
      " [ 0.95865738  1.        ]]\n"
     ]
    }
   ],
   "source": [
    "#Are these columns correlated ?\n",
    "print(np.corrcoef(np_baseball[:,0],np_baseball[:,1]))"
   ]
  },
  {
   "cell_type": "markdown",
   "metadata": {},
   "source": [
    "### Loop 1d and 2d"
   ]
  },
  {
   "cell_type": "code",
   "execution_count": 26,
   "metadata": {},
   "outputs": [
    {
     "name": "stdout",
     "output_type": "stream",
     "text": [
      "180 inches\n",
      "215 inches\n",
      "210 inches\n",
      "210 inches\n",
      "188 inches\n",
      "176 inches\n",
      "209 inches\n",
      "200 inches\n",
      "180.0\n",
      "78.4\n",
      "215.0\n",
      "102.7\n",
      "210.0\n",
      "98.5\n",
      "188.0\n",
      "75.2\n"
     ]
    }
   ],
   "source": [
    "# For loop over np_height\n",
    "np_height = np.array ([180, 215, 210, 210, 188, 176, 209, 200])\n",
    "for l in np_height:\n",
    "    print (str(l) + \" inches\")\n",
    "\n",
    "# Create a 2D Numpy array from baseball: np_baseball\n",
    "baseball = [[180, 78.4],\n",
    "            [215, 102.7],\n",
    "            [210, 98.5],\n",
    "            [188, 75.2]]\n",
    "np_baseball = np.array (baseball)\n",
    "    \n",
    "# For loop over np_baseball: every elements one by line\n",
    "for l in np.nditer(np_baseball):\n",
    "    print (l)"
   ]
  },
  {
   "cell_type": "code",
   "execution_count": 3,
   "metadata": {},
   "outputs": [
    {
     "name": "stdout",
     "output_type": "stream",
     "text": [
      "6\n"
     ]
    }
   ],
   "source": [
    "np.random.seed(123)\n",
    "# Use randint() to simulate a dice\n",
    "print(np.random.randint(1, 7))"
   ]
  },
  {
   "cell_type": "markdown",
   "metadata": {},
   "source": [
    "---\n",
    "##  Matplotlib "
   ]
  },
  {
   "cell_type": "code",
   "execution_count": 4,
   "metadata": {
    "collapsed": true
   },
   "outputs": [],
   "source": [
    "import matplotlib.pyplot as plt\n",
    "import numpy as np\n",
    "x = np.array ( [1993, 1994, 1995, 1996, 1997, 1998, 1999, 2000, 2001, 2002, 2003, 2004, 2005, 2006, 2007, 2008, 2009, 2010, 2011, 2012, 2013, 2014, 2015, 2016])\n",
    "y = np.array (  [0.10000000000000001, 0.40000000000000002, 1.0999999999999999, 2.4000000000000008, 7.9999999999999876, 14.499999999999979, 30.700000000000152, 64.600000000000421, 109.19999999999807, 218.9999999999977, 371.79999999999768, 811.90000000000293, 1695.6000000000022, 2789.7999999999979, 4949.3999999999842, 12152.599999999993, 22639.799999999974, 32434.200000000077, 58928.000000000015, 123415.90000000002, 223653.8000000001, 273763.70000000042, 362651.79999999981, 567354.00000000012])\n",
    "y = y * 1E15"
   ]
  },
  {
   "cell_type": "markdown",
   "metadata": {},
   "source": [
    "### Type of plot"
   ]
  },
  {
   "cell_type": "code",
   "execution_count": 5,
   "metadata": {},
   "outputs": [
    {
     "data": {
      "image/png": "[encoded data removed]",
      "text/plain": [
       "<matplotlib.figure.Figure at 0x109dc5f98>"
      ]
     },
     "metadata": {},
     "output_type": "display_data"
    },
    {
     "data": {
      "image/png": "[encoded data removed]",
      "text/plain": [
       "<matplotlib.figure.Figure at 0x1085b9c88>"
      ]
     },
     "metadata": {},
     "output_type": "display_data"
    },
    {
     "data": {
      "image/png": "[encoded data removed]",
      "text/plain": [
       "<matplotlib.figure.Figure at 0x109de9d30>"
      ]
     },
     "metadata": {},
     "output_type": "display_data"
    }
   ],
   "source": [
    "plt.plot(x,y)        #Plot line\n",
    "plt.show()\n",
    "plt.scatter(x,y)     #Plotpoint\n",
    "plt.show()\n",
    "plt.hist(y, bins=20)  #Histogram with 20 rectangles\n",
    "plt.show()"
   ]
  },
  {
   "cell_type": "markdown",
   "metadata": {},
   "source": [
    "### Options"
   ]
  },
  {
   "cell_type": "code",
   "execution_count": 19,
   "metadata": {},
   "outputs": [
    {
     "data": {
      "image/png": "[encoded data removed]",
      "text/plain": [
       "<matplotlib.figure.Figure at 0x10a0fad68>"
      ]
     },
     "metadata": {},
     "output_type": "display_data"
    }
   ],
   "source": [
    "col =  {\n",
    "    '1993':'red',\n",
    "    'Europe':'green',\n",
    "    '2014':'blue',\n",
    "    '2015':'yellow',\n",
    "    'Oceania':'black'\n",
    "}\n",
    "\n",
    "plt.scatter(x, y,\n",
    "           alpha=.8,       #Oppacity\n",
    "           s=(x-1990) **2  #Size of bubble: can be a np_array (no sens in this example)\n",
    "           #c=col          #Change the bubble's color depending on the value (TODO)\n",
    "           )\n",
    "plt.yscale('log')   #Log scale on y\n",
    "plt.xlabel(\"Years\")\n",
    "plt.ylabel(\"Computing power FLOP/S\")\n",
    "plt.title (\"Analysis of Top500 performance \\n(Sum of the 500 supercomputer's performance)\")\n",
    "plt.grid(True)\n",
    "\n",
    "#Annotation\n",
    "plt.text(2005, 1E17, 'These bubbles have no sense!')\n",
    "#Arrow\n",
    "texteX1 = 2000\n",
    "texteY1 = 1E15\n",
    "flecheX1 = 2000\n",
    "flecheY1 = 1E16*4\n",
    "\n",
    "plt.annotate('Nice bubble here',\n",
    "             xy=(flecheX1, flecheY1), xycoords='data',\n",
    "             xytext=(texteX1, texteY1), textcoords='data',\n",
    "             arrowprops=dict(arrowstyle=\"->\",\n",
    "                            linewidth = 5.,\n",
    "                            color = 'red'),\n",
    "            )\n",
    "\n",
    "#Set custome min and max value for x and y axis.\n",
    "x1,x2,y1,y2 = plt.axis()\n",
    "plt.axis((1990,x2,y1,y2))\n",
    "\n",
    "# Definition of tick_val and tick_lab\n",
    "tick_val = [1E12,1E15,1E18, 1E21]\n",
    "tick_lab = ['GigaFlops','PetaFlops','ExaFlops', 'ZettaFlops']\n",
    "plt.yticks(tick_val, tick_lab)\n",
    "plt.show()"
   ]
  },
  {
   "cell_type": "markdown",
   "metadata": {
    "collapsed": true
   },
   "source": [
    "---\n",
    "##  Dictionaries\n",
    "Data structure key:value"
   ]
  },
  {
   "cell_type": "code",
   "execution_count": 18,
   "metadata": {},
   "outputs": [
    {
     "name": "stdout",
     "output_type": "stream",
     "text": [
      "dict_keys(['spain', 'france', 'norway', 'italy'])\n",
      "oslo\n"
     ]
    }
   ],
   "source": [
    "# Definition of dictionary\n",
    "europe = {'spain':'madrid', 'france':'paris', 'germany':'berlin', 'norway':'oslo' }\n",
    "\n",
    "# Add italy to europe\n",
    "europe['italy'] = 'rome'\n",
    "\n",
    "# Remove australia\n",
    "del europe['germany']\n",
    "\n",
    "# Print out the keys in europe\n",
    "print(europe.keys())\n",
    "\n",
    "# Print out value that belongs to key 'norway'\n",
    "print(europe['norway'])"
   ]
  },
  {
   "cell_type": "markdown",
   "metadata": {},
   "source": [
    "### Loop with .items()"
   ]
  },
  {
   "cell_type": "code",
   "execution_count": 20,
   "metadata": {},
   "outputs": [
    {
     "name": "stdout",
     "output_type": "stream",
     "text": [
      "the capital of spain is madrid\n",
      "the capital of france is paris\n",
      "the capital of norway is oslo\n",
      "the capital of italy is rome\n"
     ]
    }
   ],
   "source": [
    "#Iterate over europe\n",
    "for key, value in europe.items() :\n",
    "    print(\"the capital of \" + key + \" is \" + str(value))"
   ]
  },
  {
   "cell_type": "code",
   "execution_count": 17,
   "metadata": {},
   "outputs": [
    {
     "name": "stdout",
     "output_type": "stream",
     "text": [
      "{'spain': {'capital': 'madrid', 'population': 46.77}, 'france': {'capital': 'paris', 'population': 66.03}, 'germany': {'capital': 'berlin', 'population': 80.62}, 'norway': {'capital': 'oslo', 'population': 5.084}, 'italy': {'capital': 'rome', 'population': 59.83}}\n"
     ]
    }
   ],
   "source": [
    "# Dictionary of dictionaries\n",
    "europe = { 'spain': { 'capital':'madrid', 'population':46.77 },\n",
    "           'france': { 'capital':'paris', 'population':66.03 },\n",
    "           'germany': { 'capital':'berlin', 'population':80.62 },\n",
    "           'norway': { 'capital':'oslo', 'population':5.084 } }\n",
    "\n",
    "# Add data to europe under key 'italy'\n",
    "data = { 'capital':'rome', 'population':59.83}\n",
    "europe ['italy'] = data\n",
    "\n",
    "print (europe)"
   ]
  },
  {
   "cell_type": "markdown",
   "metadata": {},
   "source": [
    "---\n",
    "##  PANDAS"
   ]
  },
  {
   "cell_type": "markdown",
   "metadata": {},
   "source": [
    "Allow to perform more complexe fonction on data array.\n",
    "- Multiple types datas array\n",
    "- manipulate, slice, reshape, merge\n",
    "- performs statistics\n",
    "- Clean imported file: commentary, missing value...\n",
    "\n"
   ]
  },
  {
   "cell_type": "markdown",
   "metadata": {},
   "source": [
    "### Opening files"
   ]
  },
  {
   "cell_type": "code",
   "execution_count": 2,
   "metadata": {},
   "outputs": [
    {
     "name": "stdout",
     "output_type": "stream",
     "text": [
      "     cars_per_cap        country drives_right\n",
      "US            809  United States         True\n",
      "AUS           731      Australia        False\n",
      "JAP           588          Japan        False\n",
      "IN             18          India        False\n",
      "RU            200         Russia         True\n"
     ]
    }
   ],
   "source": [
    "import pandas as pd\n",
    "file = \"cars.csv\"\n",
    "\n",
    "#read a file\n",
    "cars = pd.read_csv(file, index_col = 0)\n",
    "#read and clean\n",
    "data = pd.read_csv(file, \n",
    "                   sep='\\t', \n",
    "                   comment='#',               #Char reprensenting a comment in the data file\n",
    "                   na_values=['Nothing']      #Value that we want to be NaN\n",
    "                  )\n",
    "\n",
    "\n",
    "#4th first lines\n",
    "print (cars.head())"
   ]
  },
  {
   "cell_type": "markdown",
   "metadata": {},
   "source": [
    "#### Opening Excel files"
   ]
  },
  {
   "cell_type": "code",
   "execution_count": 4,
   "metadata": {},
   "outputs": [
    {
     "name": "stdout",
     "output_type": "stream",
     "text": [
      "['2002', '2004']\n"
     ]
    }
   ],
   "source": [
    "# Assign spreadsheet filename: file\n",
    "file = \"battledeath.xlsx\"\n",
    "# Load spreadsheet: xl\n",
    "xl = pd.ExcelFile(file)\n",
    "# Print sheet names\n",
    "print(xl.sheet_names)\n",
    "#Select a sheet as a DataFrame\n",
    "df1 = xl.parse('2002')       #By sheet Name\n",
    "df2 = xl.parse(0)            #By sheet Index"
   ]
  },
  {
   "cell_type": "markdown",
   "metadata": {},
   "source": [
    "### DataFrame\n",
    "The single bracket version gives a Pandas Series, the double bracket version gives a Pandas DataFrame."
   ]
  },
  {
   "cell_type": "code",
   "execution_count": 3,
   "metadata": {},
   "outputs": [
    {
     "name": "stdout",
     "output_type": "stream",
     "text": [
      "US     United States\n",
      "AUS        Australia\n",
      "JAP            Japan\n",
      "IN             India\n",
      "RU            Russia\n",
      "MOR          Morocco\n",
      "EG             Egypt\n",
      "Name: country, dtype: object \n",
      "\n",
      "           country\n",
      "US   United States\n",
      "AUS      Australia\n",
      "JAP          Japan\n",
      "IN           India\n",
      "RU          Russia\n",
      "MOR        Morocco\n",
      "EG           Egypt\n",
      "           country drives_right\n",
      "US   United States         True\n",
      "AUS      Australia        False\n",
      "JAP          Japan        False\n",
      "IN           India        False\n",
      "RU          Russia         True\n",
      "MOR        Morocco         True\n",
      "EG           Egypt         True\n",
      "     cars_per_cap        country drives_right\n",
      "US            809  United States         True\n",
      "AUS           731      Australia        False\n",
      "JAP           588          Japan        False\n",
      "cars_per_cap        country drives_right\n",
      "         809  United States         True\n",
      "         731      Australia        False\n",
      "         588          Japan        False\n"
     ]
    }
   ],
   "source": [
    "# Print out country column as Pandas Series\n",
    "print (cars['country'], \"\\n\")\n",
    "\n",
    "# Print out country column as Pandas DataFrame\n",
    "print (cars[['country']])\n",
    "\n",
    "# Print out DataFrame with country and drives_right columns\n",
    "print (cars[['country', 'drives_right']])\n",
    "\n",
    "# Print out first 3 lines\n",
    "print(cars[0:3])\n",
    "# Without Index\n",
    "print(cars.iloc[0:3].to_string(index=False) )"
   ]
  },
  {
   "cell_type": "markdown",
   "metadata": {},
   "source": [
    "### Loc et iloc\n",
    "Used to select lines and column\n",
    "\n",
    "- loc is label-based, which means that you have to specify rows and columns based on their row and column labels. \n",
    "- iloc is integer index based"
   ]
  },
  {
   "cell_type": "code",
   "execution_count": 28,
   "metadata": {},
   "outputs": [
    {
     "name": "stdout",
     "output_type": "stream",
     "text": [
      "     cars_per_cap        country drives_right\n",
      "US            809  United States         True\n",
      "AUS           731      Australia        False\n",
      "JAP           588          Japan        False\n",
      "IN             18          India        False\n",
      "RU            200         Russia         True\n",
      "MOR            70        Morocco         True\n",
      "EG             45          Egypt         True \n",
      " --- --- ---\n",
      "     cars_per_cap    country drives_right\n",
      "AUS           731  Australia        False\n",
      "EG             45      Egypt         True \n",
      " --- --- ---\n",
      "True \n",
      " --- --- ---\n",
      "     country drives_right\n",
      "RU    Russia         True\n",
      "MOR  Morocco         True \n",
      " --- --- ---\n",
      "US     United States\n",
      "AUS        Australia\n",
      "JAP            Japan\n",
      "IN             India\n",
      "RU            Russia\n",
      "MOR          Morocco\n",
      "EG             Egypt\n",
      "Name: country, dtype: object \n",
      " --- --- ---\n"
     ]
    }
   ],
   "source": [
    "# Print out observations for Australia and Egypt\n",
    "print (cars , \"\\n --- --- ---\")\n",
    "\n",
    "#Line Selection by label with [[lines],[columns]]\n",
    "print (cars.loc[['AUS', 'EG']], \"\\n --- --- ---\")\n",
    "print(cars.loc['MOR', 'drives_right'] , \"\\n --- --- ---\")\n",
    "print(cars.loc[['RU', 'MOR'], ['country', 'drives_right']], \"\\n --- --- ---\")\n",
    "\n",
    "#iloc: get with integer\n",
    "print (cars.iloc[:,1], \"\\n --- --- ---\")  #All lines, only first column\n",
    "\n",
    "\n"
   ]
  },
  {
   "cell_type": "markdown",
   "metadata": {},
   "source": [
    "### multiple selection\n",
    "the result is the intersection"
   ]
  },
  {
   "cell_type": "code",
   "execution_count": 15,
   "metadata": {},
   "outputs": [
    {
     "name": "stdout",
     "output_type": "stream",
     "text": [
      "True\n",
      "     country drives_right\n",
      "RU    Russia         True\n",
      "MOR  Morocco         True\n",
      "US      True\n",
      "AUS    False\n",
      "JAP    False\n",
      "IN     False\n",
      "RU      True\n",
      "MOR     True\n",
      "EG      True\n",
      "Name: drives_right, dtype: bool\n",
      "     cars_per_cap drives_right\n",
      "US            809         True\n",
      "AUS           731        False\n",
      "JAP           588        False\n",
      "IN             18        False\n",
      "RU            200         True\n",
      "MOR            70         True\n",
      "EG             45         True\n"
     ]
    }
   ],
   "source": [
    "# Print out drives_right value of Morocco\n",
    "print(cars.loc['MOR', 'drives_right'])\n",
    "\n",
    "# Print sub-DataFrame\n",
    "print(cars.loc[['RU', 'MOR'], ['country', 'drives_right']])\n",
    "\n",
    "#print une colonne\n",
    "print(cars.loc[:,'drives_right'])\n",
    "\n",
    "# Print out cars_per_cap and drives_right as DataFrame\n",
    "print(cars.loc[:, ['cars_per_cap', 'drives_right']])"
   ]
  },
  {
   "cell_type": "markdown",
   "metadata": {
    "collapsed": true
   },
   "source": [
    "### Boolean Selection"
   ]
  },
  {
   "cell_type": "code",
   "execution_count": 27,
   "metadata": {},
   "outputs": [
    {
     "name": "stdout",
     "output_type": "stream",
     "text": [
      "    cars_per_cap country drives_right\n",
      "RU           200  Russia         True\n"
     ]
    }
   ],
   "source": [
    "# Create medium: observations with cars_per_cap between 100 and 500\n",
    "cpc = cars['cars_per_cap']\n",
    "between = np.logical_and(cpc > 100, cpc < 500)\n",
    "medium = cars[between]\n",
    "print (medium)"
   ]
  },
  {
   "cell_type": "markdown",
   "metadata": {},
   "source": [
    "### Loop\n"
   ]
  },
  {
   "cell_type": "code",
   "execution_count": 36,
   "metadata": {},
   "outputs": [
    {
     "name": "stdout",
     "output_type": "stream",
     "text": [
      "---->US\n",
      "---->AUS\n",
      "---->JAP\n",
      "---->IN\n",
      "---->RU\n",
      "---->MOR\n",
      "---->EG\n",
      "     cars_per_cap        country drives_right        COUNTRY         smallC\n",
      "US            809  United States         True  UNITED STATES  united states\n",
      "AUS           731      Australia        False      AUSTRALIA      australia\n",
      "JAP           588          Japan        False          JAPAN          japan\n",
      "IN             18          India        False          INDIA          india\n",
      "RU            200         Russia         True         RUSSIA         russia\n",
      "MOR            70        Morocco         True        MOROCCO        morocco\n",
      "EG             45          Egypt         True          EGYPT          egypt\n"
     ]
    }
   ],
   "source": [
    "# Iterate over rows of cars\n",
    "for lab, row in cars.iterrows() :\n",
    "    print (\"---->\" + str(lab))\n",
    "    #add a column\n",
    "    cars.loc[lab, \"COUNTRY\"] = (cars.loc[lab, \"country\"]).upper()\n",
    "    \n",
    "#More efficient version with .apply function\n",
    "cars[\"smallC\"] = cars[\"country\"].apply(str.lower)\n",
    "\n",
    "print (cars)"
   ]
  },
  {
   "cell_type": "markdown",
   "metadata": {},
   "source": [
    "### Plot Dataframe"
   ]
  },
  {
   "cell_type": "code",
   "execution_count": 20,
   "metadata": {},
   "outputs": [
    {
     "name": "stdout",
     "output_type": "stream",
     "text": [
      "     cars_per_cap        country drives_right  carsx2\n",
      "US            809  United States         True    1618\n",
      "AUS           731      Australia        False    1462\n",
      "JAP           588          Japan        False    1176\n",
      "IN             18          India        False      36\n",
      "RU            200         Russia         True     400\n"
     ]
    },
    {
     "data": {
      "image/png": "[encoded data removed]",
      "text/plain": [
       "<matplotlib.figure.Figure at 0x1062c9e80>"
      ]
     },
     "metadata": {},
     "output_type": "display_data"
    }
   ],
   "source": [
    "#Plotting two plots on the same figure\n",
    "pp = cars.plot(x='country', y='cars_per_cap', kind='bar')\n",
    "cars.plot(x='country', y='cars_per_cap', ax=pp)              #Refer to the same figure with ax=pp\n",
    "plt.show()\n"
   ]
  },
  {
   "cell_type": "markdown",
   "metadata": {
    "collapsed": true
   },
   "source": [
    "---\n",
    "##  IMPORTING DATA  \n",
    "Presenting an other way to open file (check pandas section).\n",
    "**Good practice: open in context**"
   ]
  },
  {
   "cell_type": "code",
   "execution_count": 16,
   "metadata": {},
   "outputs": [
    {
     "name": "stdout",
     "output_type": "stream",
     "text": [
      ",cars_per_cap,country,drives_right\n",
      "\n"
     ]
    }
   ],
   "source": [
    "# Read & print the first 3 lines\n",
    "with open('cars.csv') as file:\n",
    "    print(file.readline())"
   ]
  },
  {
   "cell_type": "markdown",
   "metadata": {},
   "source": [
    "### Pickle Package\n",
    "Pickling is the process whereby a Python object hierarchy is converted into a byte stream\n",
    "- Open and create serialized file\n"
   ]
  },
  {
   "cell_type": "code",
   "execution_count": null,
   "metadata": {
    "collapsed": true
   },
   "outputs": [],
   "source": [
    "with open('data.pkl', 'rb') as file:    #b because file is a bytestream. Not human readable\n",
    "    d = pickle.load(file)"
   ]
  }
 ],
 "metadata": {
  "gist_id": "6011986",
  "kernelspec": {
   "display_name": "Python 2",
   "language": "python",
   "name": "python2"
  },
  "language_info": {
   "codemirror_mode": {
    "name": "ipython",
    "version": 2
   },
   "file_extension": ".py",
   "mimetype": "text/x-python",
   "name": "python",
   "nbconvert_exporter": "python",
   "pygments_lexer": "ipython2",
   "version": "2.7.12"
  }
 },
 "nbformat": 4,
 "nbformat_minor": 1
}

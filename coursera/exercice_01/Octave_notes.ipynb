{
 "cells": [
  {
   "cell_type": "markdown",
   "metadata": {},
   "source": [
    "## GENERAL\n",
    "\n",
    "### déclarations initiales"
   ]
  },
  {
   "cell_type": "code",
   "execution_count": 27,
   "metadata": {
    "collapsed": true
   },
   "outputs": [],
   "source": [
    "MAT = [ 1 2; 3 4; 5 6 ]  ;"
   ]
  },
  {
   "cell_type": "markdown",
   "metadata": {},
   "source": [
    "### Declaration"
   ]
  },
  {
   "cell_type": "code",
   "execution_count": 7,
   "metadata": {},
   "outputs": [
    {
     "name": "stdout",
     "output_type": "stream",
     "text": [
      "x =  4\n",
      "y =  5\n",
      "ans =\n",
      "\n",
      "   4   5\n",
      "\n"
     ]
    }
   ],
   "source": [
    "function [y1, y2] = maFonction(x)           %Take one parameter, return two values\n",
    "    y1 = x + 1;\n",
    "    y2 = x + 2;\n",
    "endfunction\n",
    "\n",
    "[x,y] = maFonction(3)"
   ]
  },
  {
   "cell_type": "markdown",
   "metadata": {},
   "source": [
    "### Variable"
   ]
  },
  {
   "cell_type": "code",
   "execution_count": 51,
   "metadata": {
    "scrolled": true
   },
   "outputs": [
    {
     "name": "stdout",
     "output_type": "stream",
     "text": [
      "v =\n",
      "\n",
      "    1.0000    1.2000    1.4000    1.6000    1.8000    2.0000\n",
      "\n",
      "yo : 3.14\n",
      "Variables in the current scope:\n",
      "\n",
      "v\n",
      "\n",
      "Variables in the current scope:\n",
      "\n",
      "   Attr Name        Size                     Bytes  Class\n",
      "   ==== ====        ====                     =====  ===== \n",
      "        v           1x6                         24  double\n",
      "\n",
      "Total is 6 elements using 24 bytes\n",
      "\n"
     ]
    }
   ],
   "source": [
    "v = 1:0.2:2                                 %1 a 2 par pas de 0.1\n",
    "disp(sprintf('yo : %0.2f', 3.14))           %print\n",
    "who  %returns variable in the scope\n",
    "whos %more detailed size, byte...\n",
    "clear  %Delete all from scope"
   ]
  },
  {
   "cell_type": "markdown",
   "metadata": {},
   "source": [
    "## Opération sur les fichiers"
   ]
  },
  {
   "cell_type": "code",
   "execution_count": 1,
   "metadata": {},
   "outputs": [
    {
     "name": "stdout",
     "output_type": "stream",
     "text": [
      "error: load: unable to find file ex1data1.txt\n",
      "error: 'data' undefined near line 1 column 5\n",
      "error: 'y' undefined near line 1 column 12\n",
      "error: evaluating argument list element number 1\n"
     ]
    }
   ],
   "source": [
    "data = load('ex1data1.txt') % read comma separated data\n",
    "X = data(:, 1); y = data(:, 2);\n",
    "m = length(y); "
   ]
  },
  {
   "cell_type": "markdown",
   "metadata": {},
   "source": [
    "---\n",
    "## Matrices\n",
    "\n",
    "### Declaration\n"
   ]
  },
  {
   "cell_type": "code",
   "execution_count": 20,
   "metadata": {},
   "outputs": [
    {
     "name": "stdout",
     "output_type": "stream",
     "text": [
      "ans =\n",
      "\n",
      "   1   2\n",
      "   3   4\n",
      "   5   6\n",
      "\n",
      "ans =\n",
      "\n",
      "   1   1   1\n",
      "   1   1   1\n",
      "\n",
      "ans =\n",
      "\n",
      "   0.150118   0.838009   0.840189   0.076050   0.157609\n",
      "   0.054731   0.472714   0.279571   0.105633   0.063376\n",
      "   0.271225   0.812001   0.108169   0.544239   0.969135\n",
      "   0.874783   0.263758   0.190662   0.743045   0.513219\n",
      "\n",
      "ans =\n",
      "\n",
      "Diagonal Matrix\n",
      "\n",
      "   1   0   0\n",
      "   0   1   0\n",
      "   0   0   1\n",
      "\n"
     ]
    }
   ],
   "source": [
    "\n",
    "[ 1 2; 3 4; 5 6 ]       % 3 lignes * 2 colonnes\n",
    "ones(2,3)               % Matrice pleine de 1\n",
    "rand (x,y)              % Matrice aleatoire\n",
    "eye (3)                 % Matrice identitaire z * z\n"
   ]
  },
  {
   "cell_type": "markdown",
   "metadata": {},
   "source": [
    "### Informations"
   ]
  },
  {
   "cell_type": "code",
   "execution_count": 28,
   "metadata": {},
   "outputs": [
    {
     "name": "stdout",
     "output_type": "stream",
     "text": [
      "ans =\n",
      "\n",
      "   3   2\n",
      "\n",
      "ans =  3\n"
     ]
    }
   ],
   "source": [
    "size(MAT)          %renvoi les deux dimensions\n",
    "length(MAT)        %renvoi la plus grande dimension\n"
   ]
  },
  {
   "cell_type": "markdown",
   "metadata": {},
   "source": [
    "### Acces, selection"
   ]
  },
  {
   "cell_type": "code",
   "execution_count": 32,
   "metadata": {},
   "outputs": [
    {
     "name": "stdout",
     "output_type": "stream",
     "text": [
      "C =\n",
      "\n",
      "   1\n",
      "   3\n",
      "   5\n",
      "\n",
      "C =\n",
      "\n",
      "   1   2\n",
      "   5   6\n",
      "\n",
      "raw =\n",
      "\n",
      "   3\n",
      "   2\n",
      "   3\n",
      "\n",
      "col =\n",
      "\n",
      "   1\n",
      "   2\n",
      "   2\n",
      "\n",
      "ans =\n",
      "\n",
      "   5   6\n",
      "\n",
      "ans =  6\n"
     ]
    }
   ],
   "source": [
    "C = MAT (:,1)                   % toutes les lignes premiere column\n",
    "C = MAT ([1,3], :)              % premier et 3e lignes toutes les colonnes\n",
    "[raw,col] = find( MAT >= 4 )    % renvoi dans r et c, les raw et column qui >= 7\n",
    "max (MAT, [], 1)                % Max par colonne, remplacer 1 par 2 pour faire par ligne\n",
    "max (MAT (:))                   % Max de toute la matrice en la transformant en matrice colonne\n"
   ]
  },
  {
   "cell_type": "markdown",
   "metadata": {},
   "source": [
    "### Operations, Manipulations"
   ]
  },
  {
   "cell_type": "code",
   "execution_count": 36,
   "metadata": {},
   "outputs": [
    {
     "name": "stdout",
     "output_type": "stream",
     "text": [
      "ans =\n",
      "\n",
      "   1   2   7\n",
      "   3   4   8\n",
      "   5   6   9\n",
      "\n",
      "ans =\n",
      "\n",
      "    1    4\n",
      "    9   16\n",
      "   25   36\n",
      "\n",
      "ans =\n",
      "\n",
      "   1   3   5\n",
      "   2   4   6\n",
      "\n",
      "ans =\n",
      "\n",
      "    9   12\n",
      "\n"
     ]
    }
   ],
   "source": [
    "[MAT, [7; 8; 9]]            % ajoute une colonne a droite de la matrice\n",
    "MAT .* MAT                  % multiplication case par case correspondantes\n",
    "MAT'                        % transpose\n",
    "sum (MAT, 1)                % Somme chaque colonne, renvoi un vecteur (2 pour lignes)\n"
   ]
  },
  {
   "cell_type": "markdown",
   "metadata": {},
   "source": [
    "---\n",
    "## PLOT\n"
   ]
  },
  {
   "cell_type": "code",
   "execution_count": 39,
   "metadata": {
    "collapsed": true
   },
   "outputs": [],
   "source": [
    "x = [0: 0.01: 0.98];\n",
    "y1 = sin (2*pi*4*x);\n",
    "y2 = cos (2*pi*4*x);"
   ]
  },
  {
   "cell_type": "markdown",
   "metadata": {},
   "source": [
    "#### Options et plot"
   ]
  },
  {
   "cell_type": "code",
   "execution_count": 41,
   "metadata": {},
   "outputs": [
    {
     "data": {
      "image/png": "[encoded data removed]",
      "text/plain": [
       "<IPython.core.display.Image object>"
      ]
     },
     "metadata": {},
     "output_type": "display_data"
    }
   ],
   "source": [
    "plot (x, y1);               %first plot\n",
    "hold on;                    %Draw on the same window\n",
    "plot (x, y2, 'r')           %In red\n",
    "\n",
    "legend ('sin', 'cos')\n",
    "xlabel ('time')\n",
    "ylabel ('value')\n",
    "title ('My Plot')\n",
    "axis ([0, 1, -1, 1])    %Set axis x y\n"
   ]
  },
  {
   "cell_type": "markdown",
   "metadata": {},
   "source": [
    "### subplot"
   ]
  },
  {
   "cell_type": "code",
   "execution_count": 44,
   "metadata": {},
   "outputs": [
    {
     "data": {
      "image/png": "[encoded data removed]",
      "text/plain": [
       "<IPython.core.display.Image object>"
      ]
     },
     "metadata": {},
     "output_type": "display_data"
    }
   ],
   "source": [
    "subplot (1,2,1)         %Divides plot a 1x2 grid, acces the first element\n",
    "plot (x, y1)\n",
    "subplot (1,2,2)         %Selects the second subplot\n",
    "plot (x, y2)\n"
   ]
  },
  {
   "cell_type": "markdown",
   "metadata": {},
   "source": [
    "### Type de Plot"
   ]
  },
  {
   "cell_type": "code",
   "execution_count": 48,
   "metadata": {},
   "outputs": [
    {
     "data": {
      "image/png": "[encoded data removed]",
      "text/plain": [
       "<IPython.core.display.Image object>"
      ]
     },
     "metadata": {},
     "output_type": "display_data"
    }
   ],
   "source": [
    "x = rand(1, 100);\n",
    "hist(x,10)\n"
   ]
  },
  {
   "cell_type": "code",
   "execution_count": null,
   "metadata": {
    "collapsed": true
   },
   "outputs": [],
   "source": []
  }
 ],
 "metadata": {
  "kernelspec": {
   "display_name": "Octave",
   "language": "octave",
   "name": "octave"
  },
  "language_info": {
   "file_extension": ".m",
   "help_links": [
    {
     "text": "GNU Octave",
     "url": "https://www.gnu.org/software/octave/support.html"
    },
    {
     "text": "Octave Kernel",
     "url": "https://github.com/Calysto/octave_kernel"
    },
    {
     "text": "MetaKernel Magics",
     "url": "https://github.com/calysto/metakernel/blob/master/metakernel/magics/README.md"
    }
   ],
   "mimetype": "text/x-octave",
   "name": "octave",
   "version": "4.0.0"
  }
 },
 "nbformat": 4,
 "nbformat_minor": 2
}

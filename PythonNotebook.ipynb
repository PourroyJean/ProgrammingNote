{
 "cells": [
  {
   "cell_type": "markdown",
   "metadata": {},
   "source": [
    "# Importing Jupyter Notebooks as Modules"
   ]
  },
  {
   "cell_type": "markdown",
   "metadata": {},
   "source": [
    "From basics to more sophisticated command for data visualisation\n",
    "1. Basics python command\n",
    "2. Numpy\n",
    "3. Matplotlib\n"
   ]
  },
  {
   "cell_type": "markdown",
   "metadata": {},
   "source": [
    "## Basics"
   ]
  },
  {
   "cell_type": "code",
   "execution_count": 1,
   "metadata": {},
   "outputs": [
    {
     "name": "stdout",
     "output_type": "stream",
     "text": [
      "16\n"
     ]
    }
   ],
   "source": [
    "#Exponentiation\n",
    "print(4 ** 2)\n"
   ]
  },
  {
   "cell_type": "code",
   "execution_count": 7,
   "metadata": {},
   "outputs": [
    {
     "name": "stdout",
     "output_type": "stream",
     "text": [
      "6 0.4 Hey <class 'str'>\n"
     ]
    }
   ],
   "source": [
    "#Types and converstion\n",
    "mInt = 6\n",
    "mFloat = .4\n",
    "mString = \"Hey\"\n",
    "mConversion = str(mFloat)\n",
    "print (mInt, mFloat, mString, type(mConversion))"
   ]
  },
  {
   "cell_type": "markdown",
   "metadata": {},
   "source": [
    "### Lists"
   ]
  },
  {
   "cell_type": "code",
   "execution_count": 9,
   "metadata": {},
   "outputs": [
    {
     "name": "stdout",
     "output_type": "stream",
     "text": [
      "[['my', 'nested', 'list'], 'is', 'nice']\n"
     ]
    }
   ],
   "source": [
    "a = \"is\"\n",
    "b = \"nice\"\n",
    "my_list = [[\"my\", \"nested\", \"list\"], a, b]\n",
    "print (my_list)"
   ]
  },
  {
   "cell_type": "code",
   "execution_count": 14,
   "metadata": {},
   "outputs": [
    {
     "name": "stdout",
     "output_type": "stream",
     "text": [
      "nice  ==  nice\n"
     ]
    }
   ],
   "source": [
    "print (my_list[-1],  \" == \",  my_list [2])"
   ]
  },
  {
   "cell_type": "code",
   "execution_count": 17,
   "metadata": {},
   "outputs": [
    {
     "name": "stdout",
     "output_type": "stream",
     "text": [
      "['1', '2']\n",
      "['0', '1']\n"
     ]
    }
   ],
   "source": [
    "#Slicing and dicing\n",
    "x = [\"0\", \"1\", \"2\", \"3\"]\n",
    "print (x[1:3]) #end border is exclusif\n",
    "print (x[:2])"
   ]
  },
  {
   "cell_type": "code",
   "execution_count": 30,
   "metadata": {},
   "outputs": [
    {
     "name": "stdout",
     "output_type": "stream",
     "text": [
      "g\n",
      "['g', 'h']\n"
     ]
    }
   ],
   "source": [
    "\n",
    "x = [[\"a\", \"b\", \"c\"],\n",
    "     [\"d\", \"e\", \"f\"],\n",
    "     [\"g\", \"h\", \"i\"]]\n",
    "print(x[2][0])\n",
    "print(x[2][:2])#Intersection of both index"
   ]
  },
  {
   "cell_type": "code",
   "execution_count": 31,
   "metadata": {},
   "outputs": [
    {
     "name": "stdout",
     "output_type": "stream",
     "text": [
      "[['a', 'b', 'c'], ['d', 'e', 'f'], ['g', 'h', 'i'], ['j', 'k', 'l']]\n"
     ]
    }
   ],
   "source": [
    "x = x + [[\"j\", \"k\", \"l\"]] #add a sublist with double [[]]\n",
    "print (x)"
   ]
  },
  {
   "cell_type": "code",
   "execution_count": 32,
   "metadata": {},
   "outputs": [
    {
     "name": "stdout",
     "output_type": "stream",
     "text": [
      "[['a', 'b', 'c'], ['d', 'e', 'f'], ['g', 'h', 'i'], ['j', 'k', 'l']]\n"
     ]
    }
   ],
   "source": [
    "# Create areas_copy\n",
    "X_pointer = x #Point to the same list (memory adress)\n",
    "y = list(x)   #Y is an other list\n",
    "del(x[1])\n",
    "print (y)\n"
   ]
  },
  {
   "cell_type": "code",
   "execution_count": 34,
   "metadata": {},
   "outputs": [
    {
     "name": "stdout",
     "output_type": "stream",
     "text": [
      "[20.0, 18.0, 11.25]\n"
     ]
    }
   ],
   "source": [
    "z = [11.25, 18.0, 20.0]\n",
    "# Sort full in descending order: full_sorted\n",
    "full_sorted = sorted (z, reverse=True)\n",
    "# Print out full_sorted\n",
    "print(full_sorted)"
   ]
  },
  {
   "cell_type": "code",
   "execution_count": 39,
   "metadata": {},
   "outputs": [
    {
     "name": "stdout",
     "output_type": "stream",
     "text": [
      "2\n",
      "1\n"
     ]
    }
   ],
   "source": [
    "#Search index\n",
    "print(z.index(20.0))\n",
    "# Print out how often 14.5 appears in areas\n",
    "print (z.count(18.0))"
   ]
  },
  {
   "cell_type": "markdown",
   "metadata": {},
   "source": [
    "## Numpy: the fundamental package for scientific computing with Python"
   ]
  },
  {
   "cell_type": "code",
   "execution_count": 40,
   "metadata": {
    "collapsed": true
   },
   "outputs": [],
   "source": [
    "# Import the numpy package as np\n",
    "import numpy as np"
   ]
  },
  {
   "cell_type": "code",
   "execution_count": 44,
   "metadata": {},
   "outputs": [
    {
     "name": "stdout",
     "output_type": "stream",
     "text": [
      "[180, 215, 210, 210, 188, 176, 209, 200]\n",
      "[180 215 210 210 188 176 209 200]\n"
     ]
    }
   ],
   "source": [
    "# Create list baseball\n",
    "baseball = [180, 215, 210, 210, 188, 176, 209, 200]\n",
    "# Create a Numpy array from baseball: np_baseball\n",
    "np_baseball = np.array(baseball)\n",
    "print (baseball)\n",
    "print (np_baseball)"
   ]
  },
  {
   "cell_type": "code",
   "execution_count": 45,
   "metadata": {},
   "outputs": [
    {
     "name": "stdout",
     "output_type": "stream",
     "text": [
      "[1800 2150 2100 2100 1880 1760 2090 2000]\n"
     ]
    }
   ],
   "source": [
    "#Perform operation on all datas\n",
    "print (np_baseball * 10)"
   ]
  },
  {
   "cell_type": "code",
   "execution_count": 48,
   "metadata": {},
   "outputs": [
    {
     "name": "stdout",
     "output_type": "stream",
     "text": [
      "[180 188 176]\n"
     ]
    }
   ],
   "source": [
    "#Perform condition\n",
    "print (np_baseball [np_baseball < 200]) #the conditition is creating an boolean array\n",
    "#So we can get indexes from one np.array to slect value in a second one "
   ]
  },
  {
   "cell_type": "markdown",
   "metadata": {},
   "source": [
    "### 2d Numpy Array"
   ]
  },
  {
   "cell_type": "code",
   "execution_count": 50,
   "metadata": {},
   "outputs": [
    {
     "name": "stdout",
     "output_type": "stream",
     "text": [
      "(4, 2)\n"
     ]
    }
   ],
   "source": [
    "# Create baseball, a list of lists\n",
    "baseball = [[180, 78.4],\n",
    "            [215, 102.7],\n",
    "            [210, 98.5],\n",
    "            [188, 75.2]]\n",
    "# Create a 2D Numpy array from baseball: np_baseball\n",
    "np_baseball = np.array (baseball)\n",
    "# Print out the shape of np_baseball\n",
    "print (np_baseball.shape)"
   ]
  },
  {
   "cell_type": "code",
   "execution_count": 54,
   "metadata": {},
   "outputs": [
    {
     "name": "stdout",
     "output_type": "stream",
     "text": [
      "[ 188.    75.2]\n",
      "[  78.4  102.7   98.5   75.2]\n"
     ]
    }
   ],
   "source": [
    "# Print out the 4th row of np_baseball\n",
    "print (np_baseball[3,:])\n",
    "# Select the entire second column of np_baseball: np_weight\n",
    "print (np_baseball[:,1])"
   ]
  },
  {
   "cell_type": "code",
   "execution_count": 55,
   "metadata": {},
   "outputs": [
    {
     "name": "stdout",
     "output_type": "stream",
     "text": [
      "[[   1800.   78400.]\n",
      " [   2150.  102700.]\n",
      " [   2100.   98500.]\n",
      " [   1880.   75200.]]\n"
     ]
    }
   ],
   "source": [
    "#Appllying a filter on an array\n",
    "conversion = np.array([10, 1000])\n",
    "# Print out product of np_baseball and conversion\n",
    "print ( np_baseball * conversion)"
   ]
  },
  {
   "cell_type": "markdown",
   "metadata": {},
   "source": [
    "## Some statistics tricks"
   ]
  },
  {
   "cell_type": "code",
   "execution_count": 57,
   "metadata": {},
   "outputs": [
    {
     "name": "stdout",
     "output_type": "stream",
     "text": [
      "198.25\n",
      "88.45\n"
     ]
    }
   ],
   "source": [
    "# Print out the mean of height\n",
    "print( np.mean(np_baseball[:,0]))\n",
    "# Print out the median of weight\n",
    "print( np.median(np_baseball[:,1]))"
   ]
  },
  {
   "cell_type": "code",
   "execution_count": 58,
   "metadata": {},
   "outputs": [
    {
     "name": "stdout",
     "output_type": "stream",
     "text": [
      "[[ 1.          0.95865738]\n",
      " [ 0.95865738  1.        ]]\n"
     ]
    }
   ],
   "source": [
    "#Are these columns correlated ?\n",
    "print(np.corrcoef(np_baseball[:,0],np_baseball[:,1]))"
   ]
  },
  {
   "cell_type": "markdown",
   "metadata": {},
   "source": [
    "# Matplotlib"
   ]
  },
  {
   "cell_type": "code",
   "execution_count": 59,
   "metadata": {
    "collapsed": true
   },
   "outputs": [],
   "source": [
    "import matplotlib.pyplot as plt"
   ]
  },
  {
   "cell_type": "code",
   "execution_count": null,
   "metadata": {
    "collapsed": true
   },
   "outputs": [],
   "source": []
  }
 ],
 "metadata": {
  "gist_id": "6011986",
  "kernelspec": {
   "display_name": "Python 3",
   "language": "python",
   "name": "python3"
  },
  "language_info": {
   "codemirror_mode": {
    "name": "ipython",
    "version": 3
   },
   "file_extension": ".py",
   "mimetype": "text/x-python",
   "name": "python",
   "nbconvert_exporter": "python",
   "pygments_lexer": "ipython3",
   "version": "3.6.1"
  }
 },
 "nbformat": 4,
 "nbformat_minor": 1
}
